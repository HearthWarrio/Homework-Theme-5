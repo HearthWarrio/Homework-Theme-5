{
 "cells": [
  {
   "cell_type": "code",
   "execution_count": 1,
   "id": "5f34a3ed-9517-4c1f-8cc1-f1490a38bb16",
   "metadata": {},
   "outputs": [
    {
     "name": "stdout",
     "output_type": "stream",
     "text": [
      "['2022-01-01', '2022-01-02', '2022-01-03']\n"
     ]
    }
   ],
   "source": [
    "from datetime import datetime, timedelta\n",
    "\n",
    "def date_range(start_date, end_date):\n",
    "\n",
    "    def is_valid_date(date_string):\n",
    "        try:\n",
    "            datetime.strptime(date_string, '%Y-%m-%d')\n",
    "            return True\n",
    "        except ValueError:\n",
    "            return False\n",
    "    \n",
    "    if not (is_valid_date(start_date) and is_valid_date(end_date)):\n",
    "        return []\n",
    "\n",
    "    start = datetime.strptime(start_date, '%Y-%m-%d')\n",
    "    end = datetime.strptime(end_date, '%Y-%m-%d')\n",
    "\n",
    "    if start > end:\n",
    "        return []\n",
    "    \n",
    "    dates = []\n",
    "    current = start\n",
    "    while current <= end:\n",
    "        dates.append(current.strftime('%Y-%m-%d'))\n",
    "        current += timedelta(days=1)\n",
    "    \n",
    "    return dates\n",
    "\n",
    "print(date_range('2022-01-01', '2022-01-03'))\n"
   ]
  },
  {
   "cell_type": "code",
   "execution_count": null,
   "id": "fa8030b5-93b3-4148-b3a5-20f37aae455b",
   "metadata": {},
   "outputs": [],
   "source": []
  }
 ],
 "metadata": {
  "kernelspec": {
   "display_name": "Python 3 (ipykernel)",
   "language": "python",
   "name": "python3"
  },
  "language_info": {
   "codemirror_mode": {
    "name": "ipython",
    "version": 3
   },
   "file_extension": ".py",
   "mimetype": "text/x-python",
   "name": "python",
   "nbconvert_exporter": "python",
   "pygments_lexer": "ipython3",
   "version": "3.13.0"
  }
 },
 "nbformat": 4,
 "nbformat_minor": 5
}
