{
 "cells": [
  {
   "cell_type": "code",
   "execution_count": null,
   "id": "027db797-8c91-49a0-81f7-2a67fd4fbb9e",
   "metadata": {},
   "outputs": [],
   "source": [
    "from datetime import datetime\n",
    "\n",
    "dates = [\n",
    "    \"Wednesday, October 2, 2002\", \n",
    "    \"Friday, 11.10.13\",            \n",
    "    \"Thursday, 18 August 1977\"       \n",
    "]\n",
    "\n",
    "formats = [\n",
    "    \"%A, %B %d, %Y\",                \n",
    "    \"%A, %d.%m.%y\",               \n",
    "    \"%A, %d %B %Y\"                \n",
    "]\n",
    "\n",
    "for date_str, fmt in zip(dates, formats):\n",
    "    date_obj = datetime.strptime(date_str, fmt)\n",
    "    print(date_obj)\n"
   ]
  }
 ],
 "metadata": {
  "kernelspec": {
   "display_name": "Python 3 (ipykernel)",
   "language": "python",
   "name": "python3"
  },
  "language_info": {
   "codemirror_mode": {
    "name": "ipython",
    "version": 3
   },
   "file_extension": ".py",
   "mimetype": "text/x-python",
   "name": "python",
   "nbconvert_exporter": "python",
   "pygments_lexer": "ipython3",
   "version": "3.13.0"
  }
 },
 "nbformat": 4,
 "nbformat_minor": 5
}
